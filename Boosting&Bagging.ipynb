{
 "cells": [
  {
   "cell_type": "markdown",
   "metadata": {
    "nbgrader": {
     "cell_type": "markdown",
     "checksum": "c1fe8ab37a38a90e432b240be80b9856",
     "grade": false,
     "grade_id": "cell-5360f94efa968f0d",
     "locked": true,
     "schema_version": 3,
     "solution": false
    }
   },
   "source": [
    "## Context\n",
    "\n",
    "We will build a classifier which can assist in diagnosing diabetes.\n",
    "\n",
    "### Data\n",
    "\n",
    "> This dataset is originally from the National Institute of Diabetes and Digestive and Kidney Diseases. The objective of the dataset is to diagnostically predict whether or not a patient has diabetes, based on certain diagnostic measurements included in the dataset. Several constraints were placed on the selection of these instances from a larger database. In particular, all patients here are females at least 21 years old of Pima Indian heritage.\n",
    "\n",
    "### Outcome\n",
    "\n",
    "> The goal of the classifier is to either say a person has diabetes (1) or not (-1). This is binary classification."
   ]
  },
  {
   "cell_type": "markdown",
   "metadata": {
    "nbgrader": {
     "cell_type": "markdown",
     "checksum": "2b85ac6d2cd0b23ea29b859810294e21",
     "grade": false,
     "grade_id": "cell-afb6c3b7286db48d",
     "locked": true,
     "schema_version": 3,
     "solution": false
    }
   },
   "source": [
    "# AdaBoost\n",
    "\n",
    "AdaBoost (adaptive boosting) trains a sequence of classifiers in such a way that each classifier specializes in correcting the mistakes of the previous classifiers.\n",
    "\n",
    "As the working of boosting is clearly dependent on the performance of the base learner, AdaBoost will employ $\\textbf{weak learners}$ as base models. Weak learners are defined as learners who perform only slightly better than random guessing and are computationally efficient. Because of the (many) mistakes that are made by the individual weak learners, the next model in line will most likely focus on correcting different mistakes, thus creating $\\textbf{diverse}$ base models.\n",
    "\n",
    ">$\\textbf{Some advantages:}$ Easy to implement; Doesn't have parameters\n",
    "that need to be tuned; Doesn't require prior knowledge; Has a good mathematical\n",
    "foundation that assures good predictions if we have enough training data and a\n",
    "weak classifier that performs at least slightly better than chance; Can be less prone to overfitting than traditional models\n",
    "\n",
    ">$\\textbf{Some disadvantages:}$ The performance depends on the data and on the\n",
    "weak classifier; It's susceptible to noise.\n",
    "\n"
   ]
  },
  {
   "cell_type": "markdown",
   "metadata": {
    "nbgrader": {
     "cell_type": "markdown",
     "checksum": "870a19ba8de73c48affa9745e2358f4f",
     "grade": false,
     "grade_id": "cell-1d9b97b69bad9f00",
     "locked": true,
     "schema_version": 3,
     "solution": false
    }
   },
   "source": [
    "### 1.1 Introduction and notation\n",
    "\n",
    "Consider a $\\textbf{binary classification problem}$ and a training\n",
    "set of the form $(x_1,t_1), ..., (x_N,t_N)$ where each $x_n$ belongs to a\n",
    "domain $X$ and each label $t_n$ belongs to the label set $Y=\\{-1,1\\}$.\n",
    "Additionally, we define a set $M$ of $\\textbf{weak classifiers}$ $y_1(\\cdot),\\dots,y_M(\\cdot)$\n",
    "that takes a value of $x_n$ and try to predict the correct label. Let\n",
    "$w_{n}^{m}$ be a weight that indicates how important it is for classifier\n",
    "$y_m(\\cdot)$, to make a correct prediction about the label that corresponds to\n",
    "$x_n$.\n",
    "\n",
    "AdaBoost iteratively adjusts the weights over the data points such that the weights of the incorrectly classified examples increase, causing the\n",
    "weak classifiers to focus on the harder training examples. Simply said, for each data point in the AdaBoost algorithm there is a weight that determines how important it is this data point is correctly classified. These weight is modified after each weak classifier is trained such that incorrectly classified data points are received as more important for the next weak classifier that will be trained.\n",
    "\n",
    "The final strong classifier is based on a weighted sum of these weak classifiers.\n",
    "\n",
    "### 1.2 Pseudo code\n",
    "\n",
    "\n",
    "$\\textbf{AdaBoost pseudo-code:}$\n",
    "\n",
    "Let $(x_1,t_1), ..., (x_N,t_N)$ be the training data, where $x_n \\in X, t_n \\in Y=\\{-1,1\\}$ and $I$ is the indicator function\n",
    "\n",
    "Initialize $w_{n}^{1} = 1/N$ for $n=1,...,N$.\n",
    "\n",
    "For $m=1, ...,M$\n",
    "\n",
    "1) Train the classifier $y_m(\\cdot)$ by minimizing the weighted error function\n",
    "\n",
    "\\begin{equation*}\n",
    "  \\epsilon_m=\\sum_{n=1}^{N} w_n^{m}I(y_m(x_n)\\neq t_n).\n",
    "\\end{equation*}\n",
    "\n",
    " where $I(y_m(x_n) \\neq t_n)$ equals 1 when $y_m(x_n) \\neq t_n$ and 0 otherwise.\n",
    "\n",
    "2) Compute $\\epsilon_m$ itself.\n",
    "\n",
    "3)  Compute the classifier weight alpha:\n",
    "\\begin{equation}\n",
    "    \\alpha_m = \\frac{1}{2}\\ln\\left(\\frac{1-\\epsilon_m}{\\epsilon_m}\\right)\n",
    "\\end{equation}\n",
    "\n",
    "4) Update the datapoints weights:\n",
    "\\begin{equation}\n",
    "    w_{n}^{m+1}=\\frac{w_{n}^{m}\\exp(\\alpha_mI(y_m(x_n) \\neq t_n))}{\\sum_{k=1}^{N}w_{k}^{m}\\exp(\\alpha_mI(y_m(x_k) \\neq t_k))}\n",
    "\\end{equation}\n",
    "\n",
    "After finishing the loop, make the final prediction:\n",
    "\\begin{equation}\n",
    "    Y_M(\\cdot)=\\mbox{sign}\\left(\\sum_{m=1}^M\\alpha_my_m(\\cdot)\\right)\n",
    "\\end{equation}\n",
    "\n"
   ]
  },
  {
   "cell_type": "markdown",
   "metadata": {
    "nbgrader": {
     "cell_type": "markdown",
     "checksum": "13e7208b37a9ae513dd5b21575714a9c",
     "grade": false,
     "grade_id": "cell-7a478b75d5766268",
     "locked": true,
     "schema_version": 3,
     "solution": false
    }
   },
   "source": [
    "### 1.3 Implementing AdaBoost\n",
    "\n",
    "#### 1.3.1 Base Learners: decision stumps\n",
    "\n",
    "## Using a very simple base learner: decision stumps\n",
    "\n",
    "As a first step we will use a very simple base learner called a decision stump, which is a a 'weak learner'. Weak learners are defined as learners who perform only slightly better than random guessing and are computionally efficient. \n",
    "\n",
    "You will see that this classifier is not complex. It can only use 1 feature and it only creates a very simple decision boundary. Because of the (many) mistakes that are made by an individual weak learner, we will later create an ensemble model of decision stumps.\n",
    "\n",
    "A decision stump will classify a certain sample as either -1 or 1 based on the fact if the value of a certain dimension is either larger or smaller than a threshold $\\theta$. The dimension is an input parameter of the decision stump.\n",
    "\n",
    "$f(x) = \\left\\{ \n",
    "\\begin{array}{l l}\n",
    "  1 & \\quad \\mbox{if $x>\\theta$}\\\\\n",
    "  -1 & \\quad \\mbox{otherwise}\\\\ \\end{array} \\right.       ,  $\n",
    "  \n",
    "  \n",
    "To use decision stumps we need to implement two operations:\n",
    "- applying a decision stump (= make predictions)\n",
    "- training a decision stump (= learn optimal threshold $\\theta$ for a certain dimension)\n",
    " \n",
    "These functions are already implemented and it is not important to know how they work, only which input parameters they need. To understand how a decision stump operates, have a look at how a decision stump makes prediction based on the plot below."
   ]
  },
  {
   "cell_type": "code",
   "execution_count": 1,
   "metadata": {
    "nbgrader": {
     "cell_type": "code",
     "checksum": "29800b700250a2121213d6146530291b",
     "grade": false,
     "grade_id": "cell-49abde8d347f166e",
     "locked": true,
     "schema_version": 3,
     "solution": false
    }
   },
   "outputs": [
    {
     "data": {
      "image/png": "[encoded data removed]",
      "text/plain": [
       "<Figure size 432x288 with 1 Axes>"
      ]
     },
     "metadata": {},
     "output_type": "display_data"
    }
   ],
   "source": [
    "# The following figure illustrates how a decision stump with parameter 'theta' does predictions. \n",
    "# The red line represents the decision boundary/threshold theta\n",
    "# In the plot, everything below theta is classified as 'x' , everything above theta is classified as 'o'\n",
    "\n",
    "# some imports\n",
    "\n",
    "import numpy as np\n",
    "%matplotlib notebook\n",
    "%matplotlib inline\n",
    "import matplotlib.pyplot as plt\n",
    "plt.style.use('ggplot')\n",
    "\n",
    "# Select a random theta for illustrative purposes\n",
    "theta= 6.0\n",
    "\n",
    "# Define two example arrays on each side of the decision boundary\n",
    "ar = np.arange(0.0,theta,0.3) \n",
    "arr = np.arange(theta+1,9.0,0.3)\n",
    "\n",
    "# Plot the decision stump boundary \n",
    "plt.axvline(theta, c='r')\n",
    "\n",
    "# Plot how data points on each side of the decision boundary value theta are classified differently\n",
    "plt.plot(ar, np.zeros_like(ar) , 'x', c='g')\n",
    "plt.plot(arr, np.zeros_like(arr) , 'o', c='b')\n",
    "plt.show()"
   ]
  },
  {
   "cell_type": "markdown",
   "metadata": {
    "nbgrader": {
     "cell_type": "markdown",
     "checksum": "1b9ea7859b0252818032ed95964fee1a",
     "grade": false,
     "grade_id": "cell-bf1055507a327f12",
     "locked": true,
     "schema_version": 3,
     "solution": false
    }
   },
   "source": [
    "$\\textbf{Applying a decision stump}$"
   ]
  },
  {
   "cell_type": "code",
   "execution_count": 2,
   "metadata": {
    "nbgrader": {
     "cell_type": "code",
     "checksum": "9031f7e6ea40311f7d639a1ea7fb5bd0",
     "grade": false,
     "grade_id": "cell-fb1f5fce0b3d0a62",
     "locked": true,
     "schema_version": 3,
     "solution": false
    }
   },
   "outputs": [],
   "source": [
    "def apply_stump(x,theta):\n",
    "    \"\"\"\n",
    "    Function which applies a decision stump on vector x using a threshold theta\n",
    "    When using this method, each item in the vector x should correspond to a single feature value of the datapoints\n",
    "\n",
    "    :param x: a vector containing a single feature value for each datapoint (length x == number of datapoints)\n",
    "    :param theta: decision boundary value\n",
    "    :return: this function returns the labels of the datapoints based on the prediction of the stump\n",
    "    \"\"\"\n",
    "    # Create vector of ones with the same length as vector x\n",
    "    output = np.ones(np.shape(x))\n",
    "    # Set everything below theta to -1\n",
    "    output[x < theta] = -1\n",
    "    # return the predictions\n",
    "    return output\n",
    "\n",
    "def calculate_accuracy(y, y_hat):\n",
    "    \"\"\"\n",
    "    Calculates the accuracy using the predicted and real labels.\n",
    "    \n",
    "    :param y: real labels (shape N x 1)\n",
    "    :param y_hat: predicted labels (shape N)\n",
    "    :return: accuracy\n",
    "    \"\"\"\n",
    "    return np.sum(y[:,0]==y_hat)/len(y)"
   ]
  },
  {
   "cell_type": "markdown",
   "metadata": {
    "nbgrader": {
     "cell_type": "markdown",
     "checksum": "b13e66cc5fc11a6fffa72e0c0707a585",
     "grade": false,
     "grade_id": "cell-8f372579f01f9c42",
     "locked": true,
     "schema_version": 3,
     "solution": false
    }
   },
   "source": [
    "$\\textbf{Training a decision stump}$"
   ]
  },
  {
   "cell_type": "code",
   "execution_count": 3,
   "metadata": {
    "nbgrader": {
     "cell_type": "code",
     "checksum": "9cd5e9182b1377fa3ce8427ee96b1c77",
     "grade": false,
     "grade_id": "cell-6fd4d3630f5ca9f0",
     "locked": true,
     "schema_version": 3,
     "solution": false
    }
   },
   "outputs": [],
   "source": [
    "def train_stump (x,y,w):\n",
    "    \"\"\"\n",
    "    This function 'trains' a decision stump on a column vector x with corresponding labels y, with weights w\n",
    "\n",
    "    :param x: a n x 1 vector containing the a single feature value for each datapoint (length x == number of datapoints)\n",
    "    :param y: a n x 1 vector containing the labels corresponding with each datapoint\n",
    "    :param w: a n x 1 vector containing the weights currently paired with the datapoint indicating\n",
    "      how important it is in the error function\n",
    "    :return: the optimal value theta to minimize the weighted error\n",
    "    \"\"\"\n",
    "\n",
    "    # The number of data points\n",
    "    number_of_data_points = np.shape(x)[0]\n",
    "    \n",
    "    # Init empty array with the same length as x\n",
    "    sums = np.zeros(number_of_data_points)\n",
    "    \n",
    "    # Return the indices for an ascending sorted x\n",
    "    ind = np.argsort(x)\n",
    "    x_sorted = x[ind]\n",
    "    \n",
    "    # Calculate the cumulative weighted sum along x\n",
    "    sums = np.cumsum(w[ind]*y[ind][:, 0])\n",
    "\n",
    "    # Determine the extremum\n",
    "    extremum_index = np.argmax(abs(sums))\n",
    "    \n",
    "    # If it's not the last element, split on the value between the two extrema, else just pick the extremum value\n",
    "    if ((extremum_index+1) < number_of_data_points):\n",
    "        theta = (x_sorted[extremum_index] + x_sorted[extremum_index+1])  / 2\n",
    "    else:\n",
    "        theta = x_sorted[extremum_index]\n",
    "\n",
    "    # Swap the sign if we found a minimum\n",
    "    if (sums[extremum_index] == max(sums)):\n",
    "        theta = -theta  \n",
    "\n",
    "    # return the optimal decision boundary value\n",
    "    return theta\n",
    "        "
   ]
  },
  {
   "cell_type": "markdown",
   "metadata": {
    "nbgrader": {
     "cell_type": "markdown",
     "checksum": "452acd587e260687f8a6d0802bfc9ba3",
     "grade": false,
     "grade_id": "cell-c0947dd51b086038",
     "locked": true,
     "schema_version": 3,
     "solution": false
    }
   },
   "source": [
    "#### 1.3.2 Imports, getting the data and setting some variables\n",
    "\n",
    "The code to load the dataset is provided below."
   ]
  },
  {
   "cell_type": "code",
   "execution_count": 4,
   "metadata": {
    "nbgrader": {
     "cell_type": "code",
     "checksum": "9b9a87529ab758d8a8bdca7cc1780702",
     "grade": false,
     "grade_id": "cell-daf3e564a2238133",
     "locked": true,
     "schema_version": 3,
     "solution": false
    },
    "scrolled": true
   },
   "outputs": [
    {
     "name": "stdout",
     "output_type": "stream",
     "text": [
      "Training set size: (384, 8)\n",
      "Test set size:     (384, 8)\n"
     ]
    }
   ],
   "source": [
    "# Imports\n",
    "import numpy as np\n",
    "import pandas as pd\n",
    "import scipy.io as sio\n",
    "\n",
    "# Load the data, make sure there is a 'data' folder containing the dataset in the same folder as this notebook\n",
    "data=np.loadtxt('Data/pima-indians-diabetes.data.csv', delimiter=',')\n",
    "data[data[:,-1]==0,-1] = -1\n",
    "np.random.seed(1)\n",
    "np.random.shuffle(data)\n",
    "N = len(data)\n",
    "\n",
    "train_data = data[:int(N*0.5), :-1]\n",
    "test_data = data[int(N*0.5):, :-1]\n",
    "train_labels = data[:int(N*0.5), [-1]]\n",
    "test_labels = data[int(N*0.5):, [-1]]\n",
    "\n",
    "# Define some variables for later use\n",
    "number_of_training_samples, number_of_dimensions = np.shape(train_data)\n",
    "number_of_test_samples = np.shape(test_data)[0]\n",
    "\n",
    "# Hyperparameters of the algorithm\n",
    "# The number of iterations to boosting rounds of AdaBoost == the number of weak learners trained\n",
    "number_of_classifiers = 200\n",
    "\n",
    "print('Training set size: {}'.format(train_data.shape))\n",
    "print('Test set size:     {}'.format(test_data.shape))"
   ]
  },
  {
   "cell_type": "markdown",
   "metadata": {
    "nbgrader": {
     "cell_type": "markdown",
     "checksum": "967d4e82375b95bac8af45436c4151e6",
     "grade": false,
     "grade_id": "cell-89d3ea9b074c6f14",
     "locked": true,
     "schema_version": 3,
     "solution": false
    }
   },
   "source": [
    "###  Training a single weak learner\n",
    "\n",
    "A decision stump makes predictions using a single feature (1D), therefore to train a decision stump on our dataset, we do not only need to determine the optimal  $\\theta$ . We also need to determine in each iteration the optimal dimension/feature that the decision stump will use given the current weights.\n",
    "\n",
    "Complete the following cell such that a decision stump is trained for each dimension. The weights are set such that each datapoint is of equal importance for this assignment (=uniform). The sum of the weights should be 1. Apply your trained stumps to the training set again. Interpret the accuracies you obtain."
   ]
  },
  {
   "cell_type": "code",
   "execution_count": 5,
   "metadata": {
    "nbgrader": {
     "cell_type": "code",
     "checksum": "f419a20dfa8e457766cc6256f4e57892",
     "grade": false,
     "grade_id": "cell-81ee73f9538f24d4",
     "locked": false,
     "schema_version": 3,
     "solution": true
    },
    "scrolled": true
   },
   "outputs": [
    {
     "name": "stdout",
     "output_type": "stream",
     "text": [
      "(384,)\n",
      "Maximum train accuracy (best weak learner performance):   76.04 %\n",
      "Minimum train accuracy (worst weak learner performance):  64.58 %\n"
     ]
    }
   ],
   "source": [
    "################# Initialize some variables #############\n",
    "# A vector containing the errors of the decision stumps\n",
    "errors = np.zeros(number_of_dimensions)\n",
    "################# END Initialize some variables #############\n",
    "\n",
    "# TASK 1: Set the weights (uniform)\n",
    "def uniform_weights(number_of_samples):\n",
    "    w = np.ones(shape=(number_of_samples))\n",
    "    w = np.divide(w,number_of_samples)\n",
    "    print(w.shape)\n",
    "    return w\n",
    "\n",
    "# TASK 2: train and apply a stump\n",
    "def train_and_apply_stump(train_data, train_labels, w, dimension):\n",
    "    \"\"\"\n",
    "    This function trains a decision stump on one single feature for the dataset.\n",
    "    \n",
    "    :param train_data: training data inputs (shape N x D)\n",
    "    :param train_labels: training data labels, which are -1 or 1 (shape N x 1)\n",
    "    :param w: weights (shape N)\n",
    "    :param dimension: integer indicating the input feature to be trained on\n",
    "    :return: the optimal theta and output of the stump\n",
    "    \"\"\"\n",
    "    theta = train_stump(train_data[:,dimension],train_labels,w)\n",
    "    out = apply_stump(train_data[:,dimension],theta)\n",
    "    return theta, out\n",
    "\n",
    "w = uniform_weights(number_of_training_samples)\n",
    "\n",
    "# Train the models for each feature\n",
    "theta_and_output = [train_and_apply_stump(train_data, train_labels, w, i) for i in range(number_of_dimensions)]\n",
    "accuracy = [calculate_accuracy(train_labels, x[1]) for x in theta_and_output]\n",
    "\n",
    "# Print the maximum and minimum of the accuracy\n",
    "print('Maximum train accuracy (best weak learner performance):   {0:.2f} %'.format(max(accuracy)*100))\n",
    "print('Minimum train accuracy (worst weak learner performance):  {0:.2f} %'.format(min(accuracy)*100))"
   ]
  },
  {
   "cell_type": "code",
   "execution_count": 6,
   "metadata": {
    "nbgrader": {
     "cell_type": "code",
     "checksum": "d758ebe0721c7c2665b493d2a6b593e9",
     "grade": true,
     "grade_id": "cell-e08812385a8070e6",
     "locked": true,
     "points": 2,
     "schema_version": 3,
     "solution": false
    }
   },
   "outputs": [],
   "source": [
    "############################# READ ONLY #############################"
   ]
  },
  {
   "cell_type": "markdown",
   "metadata": {
    "nbgrader": {
     "cell_type": "markdown",
     "checksum": "72e3c14738e090d7c60ef4901078acc0",
     "grade": false,
     "grade_id": "cell-4162a23194260437",
     "locked": true,
     "schema_version": 3,
     "solution": false
    }
   },
   "source": [
    "### Training the ensemble\n",
    "\n",
    "You will now implement the training phase of AdaBoost. For this, you will need to train decision stumps for every\n",
    "dimension in the dataset in every iteration. Next, you will need to select the decision stump that gives the lowest weighted error and update the weights based on the mistakes of this model before moving on to the next generation.\n",
    "\n",
    "The comments in the code will give you additional directions. Assignment 1 and the pseudo code can guide you further in the right direction. The picture below illustrates the training phase in rounds. Make sure that the picture loads by running this cell.\n",
    "\n",
    "![Boosting Ensemble](boosting.png)"
   ]
  },
  {
   "cell_type": "code",
   "execution_count": 7,
   "metadata": {
    "nbgrader": {
     "cell_type": "code",
     "checksum": "2958b790da708a91c97587bbe3fa92d8",
     "grade": false,
     "grade_id": "cell-946b3f145463c886",
     "locked": false,
     "schema_version": 3,
     "solution": true
    }
   },
   "outputs": [
    {
     "name": "stdout",
     "output_type": "stream",
     "text": [
      "(384,)\n",
      "Training, round 0..\n",
      "Training, round 50..\n",
      "Training, round 100..\n",
      "Training, round 150..\n",
      "Training done\n"
     ]
    }
   ],
   "source": [
    "##### We need to determine the best dimension to train a weak learner on, given the current weights.\n",
    "# We will keep track of the optimal dimension and the optimal theta for the decision stump in each iteration\n",
    "# Afterwards, we need to update the weights and compute alpha before going to the next iteration\n",
    "\n",
    "################# Initialize some variables #############\n",
    "\n",
    "###### Variables in the global ensemble ######\n",
    "# A matrix of M (number_of_classifiers) rows, in which a row m, will contain\n",
    "# the optimal theta in the first column and the best dimension in the second column for best performing\n",
    "# weak classifier m. \n",
    "classifiers = np.zeros((number_of_classifiers,2))\n",
    "\n",
    "# A vector containing the alpha values for each weak learner which determine how the final combined strong classifier\n",
    "# is built.\n",
    "alphas  = np.zeros(number_of_classifiers)\n",
    "###### END Variables in the global ensemble ######\n",
    "\n",
    "###### Variables within one round ######\n",
    "# A vector containing the error on each feature for a single iteration\n",
    "errors = np.zeros(number_of_dimensions)\n",
    "\n",
    "# A vector which contains the optimal theta for each dimension determined by a weak learner in a single iteration\n",
    "thetas = np.zeros(number_of_dimensions)\n",
    "###### END Variables within one round ######\n",
    "\n",
    "w = uniform_weights(number_of_training_samples)\n",
    "\n",
    "################# END Initialize some variables #############\n",
    "\n",
    "# TASK 1: Calculate the weighted error\n",
    "def calculate_weighted_error(labels, prediction, w):\n",
    "    \"\"\"\n",
    "    Calculate the weighted error using weights w\n",
    "    \n",
    "    :param labels: real data labels, which are -1 or 1 (shape N x 1)\n",
    "    :param predictions: predicted data labels, which are -1 or 1 (shape N)\n",
    "    :param w: weights (shape N)\n",
    "    :return: the weighted error\n",
    "    \"\"\"\n",
    "    I = np.zeros(shape = w.shape)\n",
    "    for i in range(len(labels)):\n",
    "        if labels[i] == prediction[i]:\n",
    "            I[i] = 0\n",
    "        else:\n",
    "            I[i] = 1\n",
    "    error = np.sum(np.multiply(w , I))\n",
    "    return error\n",
    "    \n",
    "# TASK 2: Compute statistics on the best model at one iteration\n",
    "def best_dimension(errors, theta):\n",
    "    \"\"\"\n",
    "    Calculate the dimension with the lowest error, its theta and its error\n",
    "    \n",
    "    :param errors: vector of length D containing the error of corresponding models on the different\n",
    "    :param theta: vector of length D containing theta of corresponding models on the different \n",
    "    :return: the index of the best model, its theta and its error\n",
    "    \"\"\"\n",
    "    idx_best = np.argmin(errors)\n",
    "    theta_best = theta[idx_best]\n",
    "    error_best = errors[idx_best]\n",
    "    return idx_best, theta_best, error_best\n",
    "\n",
    "# TASK 3: Compute alpha for the current iteration using the error of the best model\n",
    "def get_alpha(error_best_dimension):\n",
    "    \"\"\"\n",
    "    Computes alpha for the current iteration using the error of the best model\n",
    "    \n",
    "    :param error_best_dimension: scalar representing the error of the best model\n",
    "    :return: the value of alpha\n",
    "    \"\"\"\n",
    "    alpha = np.log((1-error_best_dimension)/error_best_dimension)/2\n",
    "    return alpha\n",
    "\n",
    "\n",
    "# TASK 4: Update weights for next round using alpha (see pseudocode)\n",
    "def update_weights(w, alpha, out_best_dimension_stump, train_labels):\n",
    "    \"\"\"\n",
    "    Updates the weights w for the current iteration\n",
    "    \n",
    "    :param w: vector containing the current weights\n",
    "    :param alpha: current value of alpha\n",
    "    :param out_best_dimension_stump: prediction of the best model at the current iteration\n",
    "    :param train_labels: training labels\n",
    "    :return: the updated weights\n",
    "    \"\"\"\n",
    "    I = np.zeros(shape = w.shape)\n",
    "    for i in range(len(train_labels)):\n",
    "        if out_best_dimension_stump[i] == train_labels[i]:\n",
    "            I[i] = 0\n",
    "        else:\n",
    "            I[i] = 1\n",
    "    d = (np.sum(np.multiply(w,np.exp(alpha * I))))\n",
    "    for i in range(len(w)):\n",
    "        e = 1 if out_best_dimension_stump[i] != train_labels[i] else 0\n",
    "        \n",
    "        w[i] = (w[i] * np.exp(alpha * e))/ d\n",
    "        \n",
    "    return w\n",
    "\n",
    "# Train this many classifiers, amount of rounds == number of classifiers trained, 1 classifier per round\n",
    "for training_iteration in range(0,number_of_classifiers):\n",
    "    # Some progress output\n",
    "    if training_iteration % 50 == 0:\n",
    "        print('Training, round {}..'.format(training_iteration))\n",
    "    # Check all the dimensions to determine the optimal one\n",
    "    \n",
    "    theta_and_output = [train_and_apply_stump(train_data, train_labels, w, i) for i in range(number_of_dimensions)]\n",
    "    errors = [calculate_weighted_error(train_labels, x[1], w) for x in theta_and_output]\n",
    "    # Determine the best decision stump and store the optimal theta + optimal dimension        \n",
    "    idx_best, theta_best, error_best_dimension = best_dimension(errors, [x[0] for x in theta_and_output])\n",
    "    classifiers[training_iteration, 0] = theta_best\n",
    "    classifiers[training_iteration, 1] = idx_best\n",
    "    \n",
    "    # Just recompute the output of the best classifier or instead you can also store it while looping (you can choose)\n",
    "    out_best_dimension_stump = theta_and_output[idx_best][1]\n",
    "    \n",
    "    # Compute alpha for the current iteration\n",
    "    alpha = get_alpha(error_best_dimension)\n",
    "    alphas[training_iteration] = alpha\n",
    "    \n",
    "    # Update weights for next round using alpha\n",
    "    w = update_weights(w, alpha, out_best_dimension_stump, train_labels)\n",
    "\n",
    "print('Training done')"
   ]
  },
  {
   "cell_type": "markdown",
   "metadata": {
    "nbgrader": {
     "cell_type": "markdown",
     "checksum": "b55634440f3f2647d050db5f1f40583d",
     "grade": false,
     "grade_id": "cell-8f49cc6819478822",
     "locked": true,
     "schema_version": 3,
     "solution": false
    }
   },
   "source": [
    "##  Making predictions on the train and test set.\n",
    "\n",
    "We will now determine how the training and test error evolve _with regard to the amount of weak learners in the ensemble_.\n",
    "\n",
    "For this, we will run the algorithm for a maximum of 200 iterations and store the error scores on both the train and test sets.\n",
    "\n",
    "This means you have to store error values for a model that uses just a single\n",
    "weak classifier, a model that uses two weak classifiers,.....  \n",
    "> **Think about the accuracies that you obtain**"
   ]
  },
  {
   "cell_type": "code",
   "execution_count": 8,
   "metadata": {
    "nbgrader": {
     "cell_type": "code",
     "checksum": "e13e3494bbced3a0a8ad7e76c18bd02b",
     "grade": false,
     "grade_id": "cell-d8f0f94188242f04",
     "locked": true,
     "schema_version": 3,
     "solution": false
    }
   },
   "outputs": [
    {
     "name": "stdout",
     "output_type": "stream",
     "text": [
      "Best number of weak learners (boosting rounds): 32\n",
      "AdaBoost maximum training accuracy:   79.95 %\n",
      "AdaBoost maximum testing accuracy:   78.39 %\n"
     ]
    }
   ],
   "source": [
    "# Initialize the error vectors to 100% error\n",
    "train_accuracy = np.zeros(number_of_classifiers)\n",
    "test_accuracy = np.zeros(number_of_classifiers)\n",
    "\n",
    "# For each number of classifiers == number of rounds\n",
    "for num_round in range(number_of_classifiers):\n",
    "    sum_train = np.zeros(number_of_training_samples)\n",
    "    sum_test = np.zeros(number_of_test_samples)\n",
    "    # for each classifier up to round num_round (inclusive)\n",
    "    for n in range(num_round+1):\n",
    "        weak_classifier = classifiers[n]\n",
    "        alpha = alphas[n]\n",
    "        \n",
    "        out_train = apply_stump(theta=weak_classifier[0], x=train_data[:,int(weak_classifier[1])])\n",
    "        out_test = apply_stump(theta=weak_classifier[0], x=test_data[:,int(weak_classifier[1])])\n",
    "\n",
    "        sum_train += alphas[n]*out_train\n",
    "        sum_test += alphas[n]*out_test\n",
    "    \n",
    "    # Make the final prediction by taking the sign of the sum for both train and test set\n",
    "    final_prediction_train = np.sign(sum_train)\n",
    "    final_prediction_test = np.sign(sum_test)\n",
    "    \n",
    "    # Store the errors\n",
    "    train_accuracy[num_round] = calculate_accuracy(train_labels,final_prediction_train)\n",
    "    test_accuracy[num_round] = calculate_accuracy(test_labels,final_prediction_test)\n",
    "    \n",
    "# Print the maximum train accuracy and test accuracy\n",
    "print('Best number of weak learners (boosting rounds): {}'.format(np.argmax(test_accuracy)))\n",
    "print('AdaBoost maximum training accuracy:   {0:.2f} %'.format(max(train_accuracy)*100))\n",
    "print('AdaBoost maximum testing accuracy:   {0:.2f} %'.format(max(test_accuracy)*100))"
   ]
  },
  {
   "cell_type": "code",
   "execution_count": 9,
   "metadata": {
    "nbgrader": {
     "cell_type": "code",
     "checksum": "9092bdf7822b43482516fbc2e8092e8f",
     "grade": false,
     "grade_id": "cell-e03c936e4d39c736",
     "locked": true,
     "schema_version": 3,
     "solution": false
    }
   },
   "outputs": [
    {
     "data": {
      "text/plain": [
       "<matplotlib.legend.Legend at 0x2a455c1b940>"
      ]
     },
     "execution_count": 9,
     "metadata": {},
     "output_type": "execute_result"
    },
    {
     "data": {
      "image/png": "[encoded data removed]",
      "text/plain": [
       "<Figure size 576x288 with 1 Axes>"
      ]
     },
     "metadata": {},
     "output_type": "display_data"
    }
   ],
   "source": [
    "# Plot the train and test error\n",
    "plt.figure(figsize=(8,4))\n",
    "axes = plt.gca()\n",
    "plt.plot(np.array(train_accuracy)*100, label='train')\n",
    "plt.plot(np.array(test_accuracy)*100, label='test')\n",
    "plt.xlabel('Number of weak learners')\n",
    "plt.ylabel('Accuracy %')\n",
    "plt.tight_layout()\n",
    "plt.legend()"
   ]
  },
  {
   "cell_type": "markdown",
   "metadata": {
    "nbgrader": {
     "cell_type": "markdown",
     "checksum": "c5961b0ac58af27a0ed24a9772b95b8e",
     "grade": false,
     "grade_id": "cell-21fc4dfb89ece0e2",
     "locked": true,
     "schema_version": 3,
     "solution": false
    }
   },
   "source": [
    "###  Feature importance\n",
    "\n",
    "A nice additional property of AdaBoost is that it automatically does feature\n",
    "selection as well. This is very useful when your data is high dimensional\n",
    "but only a couple of dimensions contain predictive information.\n",
    "\n",
    "Look at the unique indices (dimensions) you stored in the second column of the variable $\\texttt{classifiers}$. Since\n",
    "you trained more classifiers than there are dimensions, the algorithm obviously\n",
    "used some dimensions multiple times.\n",
    "> **How many unique dimensions of the data did the algorithm actually use?**"
   ]
  },
  {
   "cell_type": "code",
   "execution_count": 10,
   "metadata": {
    "nbgrader": {
     "cell_type": "code",
     "checksum": "fca79112fcc15196122ec39e1a6b8b1f",
     "grade": false,
     "grade_id": "cell-b6b52776d20384d6",
     "locked": false,
     "schema_version": 3,
     "solution": true
    }
   },
   "outputs": [
    {
     "name": "stdout",
     "output_type": "stream",
     "text": [
      "The amount of unique indices: 5\n"
     ]
    },
    {
     "data": {
      "image/png": "[encoded data removed]",
      "text/plain": [
       "<Figure size 864x288 with 1 Axes>"
      ]
     },
     "metadata": {},
     "output_type": "display_data"
    }
   ],
   "source": [
    "# TASK 1: calculate the amount of unique dimensions\n",
    "def get_unique_dimensions(classifiers):\n",
    "    \"\"\"\n",
    "    Returns the amount of unique dimensions\n",
    "    \n",
    "    :param classifiers: matrix containing the theta and index of the model at all the iterations (defined above)\n",
    "    :return: the amount of unique dimensions\n",
    "    \"\"\"\n",
    "    amount_of_unique_dimensions = len(np.unique(classifiers[:,1]))\n",
    "    return amount_of_unique_dimensions\n",
    "\n",
    "amount_unique_indices = get_unique_dimensions(classifiers)\n",
    "\n",
    "print('The amount of unique indices: {}'.format(amount_unique_indices))\n",
    "\n",
    "plt.figure(figsize=(12,4))\n",
    "plt.title('Feature Importance')\n",
    "plt.xlabel('Feature Index')\n",
    "plt.hist(classifiers[:,1], bins=range(number_of_dimensions), align='left')\n",
    "plt.xticks(range(number_of_dimensions))\n",
    "plt.tight_layout()\n"
   ]
  },
  {
   "cell_type": "markdown",
   "metadata": {
    "nbgrader": {
     "cell_type": "markdown",
     "checksum": "810e738e031c9e4e65f1d72fc8d3a4d8",
     "grade": false,
     "grade_id": "cell-db840feaecc81ea3",
     "locked": true,
     "schema_version": 3,
     "solution": false
    }
   },
   "source": [
    "## 2. Bagging\n",
    "\n",
    "Another method to create diversity is called Bagging or bootstrap\n",
    "aggregating. To apply Bagging, one uniformly samples $M$ datasets of $\\hat{N}$\n",
    "datapoints from the actual dataset of $N$ points, trains a different classifier on each of\n",
    "these datasets and finally averages the predictions these classifiers make on\n",
    "new unseen data.\n",
    "As base learner we will now use a decision tree.\n",
    "\n",
    "![Bagging Ensemble](bagging.png)\n",
    "\n",
    "> First, calculate the train and test error you find using a single decision tree that has been trained on all the train data. Subsequently, apply bagging for $\\hat{N}=50$ and $M=1000$ and write down the result you obtain on the test set as well.\n",
    "Sample the datasets with replacement."
   ]
  },
  {
   "cell_type": "code",
   "execution_count": 11,
   "metadata": {
    "nbgrader": {
     "cell_type": "code",
     "checksum": "afa03ff7e65f3573a0feb3ba7140c5a3",
     "grade": false,
     "grade_id": "cell-0c8486c891fcdda0",
     "locked": false,
     "schema_version": 3,
     "solution": true
    }
   },
   "outputs": [
    {
     "name": "stdout",
     "output_type": "stream",
     "text": [
      "1 Decision Tree, Train Accuracy:  100.000 % \n",
      "1 Decision Tree, Test Accuracy:   71.354 %\n"
     ]
    }
   ],
   "source": [
    "# Imports\n",
    "from sklearn.tree import DecisionTreeClassifier\n",
    "\n",
    "# Make a decision tree\n",
    "tree = DecisionTreeClassifier()\n",
    "\n",
    "# TASK 1: Write a function that fits a tree and returns the predictions of test and train data\n",
    "def fit_and_evaluate_tree(tree, train_data, train_labels, test_data):\n",
    "    \"\"\"\n",
    "    Fits a tree and returns predictions of train and test data\n",
    "    \n",
    "    :param tree: DecisionTreeClassifier object\n",
    "    :param train_data: training data inputs (shape N x D)\n",
    "    :param train_labels: training data labels, which are -1 or 1 (shape N x 1)\n",
    "    :param test_data: testing data inputs (shape N2 x D)\n",
    "    :return: the predictions of the tree on training and testing data\n",
    "    \"\"\"\n",
    "    tree.fit(train_data,train_labels)\n",
    "    output_training = tree.predict(train_data)\n",
    "    output_test = tree.predict(test_data)\n",
    "    \n",
    "    return output_training, output_test\n",
    "\n",
    "\n",
    "output_training, output_test = fit_and_evaluate_tree(tree, train_data, train_labels, test_data)\n",
    "print('1 Decision Tree, Train Accuracy: {0: .3f} % '.format(calculate_accuracy(train_labels, output_training)*100))\n",
    "print('1 Decision Tree, Test Accuracy:  {0: .3f} %'.format(calculate_accuracy(test_labels, output_test)*100))"
   ]
  },
  {
   "cell_type": "code",
   "execution_count": 12,
   "metadata": {
    "nbgrader": {
     "cell_type": "code",
     "checksum": "22cc55515e29af4be6e86a325ba3dbdd",
     "grade": false,
     "grade_id": "cell-ad1f62f1cb65223a",
     "locked": false,
     "schema_version": 3,
     "solution": true
    }
   },
   "outputs": [
    {
     "name": "stdout",
     "output_type": "stream",
     "text": [
      "Bagging with 1000 trees, Train Accuracy: 82.292 %\n",
      "Bagging with 1000 trees, Test Accuracy:  77.083 %\n"
     ]
    }
   ],
   "source": [
    "# Do bagging\n",
    "# Set the number of trees\n",
    "number_of_trees = 1000\n",
    "size_of_bag = 50\n",
    "\n",
    "# TASK 1: write a method that takes the training data as input and trains a tree on a subset\n",
    "def fit_tree_on_bag(train_data, train_labels, size_of_bag):\n",
    "    \"\"\"\n",
    "    Fits a tree and returns predictions of train and test data\n",
    "    \n",
    "    :param train_data: training data inputs (shape N x D)\n",
    "    :param train_labels: training data labels, which are -1 or 1 (shape N x 1)\n",
    "    :param size_of_bag: size of the bag\n",
    "    :return: a DecisionTreeClassifier object\n",
    "    \"\"\"\n",
    "    tree = DecisionTreeClassifier()\n",
    "    bagidx = np.random.randint(0,len(train_data),size_of_bag)\n",
    "    tree.fit(train_data[bagidx],train_labels[bagidx])\n",
    "    \n",
    "    return tree\n",
    "\n",
    "trees = [fit_tree_on_bag(train_data, train_labels, size_of_bag) for _ in range(number_of_trees)]\n",
    "\n",
    "# TASK 2: evaluate an ensemble of trees on data\n",
    "def evaluate_ensemble(trees, data):\n",
    "    \"\"\"\n",
    "    Obtain predictions for the ensemble (aggregating predictions of individual trees)\n",
    "    \n",
    "    :param trees: list of DecisionTreeClassifier objects\n",
    "    :param data: data inputs (shape N x D)\n",
    "    :return: ensemble prediction\n",
    "    \"\"\"\n",
    "    o = np.zeros(shape=(len(data)))\n",
    "    for t in range(len(trees)):\n",
    "        out = trees[t].predict(data)\n",
    "        for i in range(len(out)):\n",
    "            o[i] += out[i]\n",
    "    for i in range(len(o)):\n",
    "        if o[i] >= 0:\n",
    "            o[i] = 1\n",
    "        else:\n",
    "            o[i] = -1\n",
    "    output = o\n",
    "    return output\n",
    "\n",
    "# Make final prediction\n",
    "output_train = evaluate_ensemble(trees, train_data)\n",
    "output_test = evaluate_ensemble(trees, test_data)\n",
    "\n",
    "# Print errors\n",
    "print('Bagging with {0} trees, Train Accuracy:{1: .3f} %'.format(number_of_trees, calculate_accuracy(train_labels, output_train)*100))\n",
    "print('Bagging with {0} trees, Test Accuracy: {1: .3f} %'.format(number_of_trees, calculate_accuracy(test_labels, output_test)*100))"
   ]
  },
  {
   "cell_type": "markdown",
   "metadata": {},
   "source": [
    "> **The code above trains and evaluates 1000 decision trees. The following code visualizes how the training and test error evolve for the number of trees used.**"
   ]
  },
  {
   "cell_type": "code",
   "execution_count": 13,
   "metadata": {},
   "outputs": [
    {
     "data": {
      "text/plain": [
       "<matplotlib.legend.Legend at 0x2a4582304e0>"
      ]
     },
     "execution_count": 13,
     "metadata": {},
     "output_type": "execute_result"
    },
    {
     "data": {
      "image/png": "[encoded data removed]",
      "text/plain": [
       "<Figure size 576x288 with 1 Axes>"
      ]
     },
     "metadata": {},
     "output_type": "display_data"
    }
   ],
   "source": [
    "if (len(trees) <1000):\n",
    "    print('Set trees in code above to 1000 and retrain the ensemble!')\n",
    "    raise ValueError()\n",
    "    \n",
    "number_of_trees = [1,5,10,100,250,500,750,1000]\n",
    "\n",
    "train_acc = [calculate_accuracy(train_labels, evaluate_ensemble(trees[:n], train_data)) for n in number_of_trees]\n",
    "test_acc = [calculate_accuracy(test_labels, evaluate_ensemble(trees[:n], test_data)) for n in number_of_trees]\n",
    "\n",
    "plt.figure(figsize=(8,4))\n",
    "plt.plot(np.array(train_acc)*100, label='train', marker='.')\n",
    "plt.plot(np.array(test_acc)*100, label='test',marker='.')\n",
    "plt.ylabel('Accuracy %')\n",
    "plt.xlabel('Number of trees')\n",
    "plt.xticks(range(len(number_of_trees)), number_of_trees)\n",
    "plt.legend()\n"
   ]
  },
  {
   "cell_type": "markdown",
   "metadata": {
    "nbgrader": {
     "cell_type": "markdown",
     "checksum": "b961b9b00a2efd98d8e7bbf61bafe2a7",
     "grade": false,
     "grade_id": "cell-5d60984edd9f93fc",
     "locked": true,
     "schema_version": 3,
     "solution": false
    }
   },
   "source": [
    "Now a single decision tree without bagging is trained. The train and test accuracy for varying levels of depth of the tree is calculated."
   ]
  },
  {
   "cell_type": "code",
   "execution_count": 14,
   "metadata": {},
   "outputs": [
    {
     "data": {
      "text/plain": [
       "<matplotlib.legend.Legend at 0x2a4582ac780>"
      ]
     },
     "execution_count": 14,
     "metadata": {},
     "output_type": "execute_result"
    },
    {
     "data": {
      "image/png": "[encoded data removed]",
      "text/plain": [
       "<Figure size 576x288 with 1 Axes>"
      ]
     },
     "metadata": {},
     "output_type": "display_data"
    }
   ],
   "source": [
    "depths = [1,2,4,8,16,32,64,128, 1024]\n",
    "train_error = []\n",
    "test_error = []\n",
    "\n",
    "    \n",
    "for depth in depths:\n",
    "    tree = DecisionTreeClassifier(max_depth=depth)\n",
    "    \n",
    "    # Fit and evaluate the tree\n",
    "    output_train, output_test=fit_and_evaluate_tree(tree, train_data, train_labels, test_data)\n",
    "    \n",
    "    # Calculate the accuracy\n",
    "    train_error.append(calculate_accuracy(train_labels, output_train))\n",
    "    test_error.append(calculate_accuracy(test_labels, output_test))\n",
    "\n",
    "# Plot\n",
    "plt.figure(figsize=(8,4))\n",
    "plt.plot(np.array(train_error)*100, label='train', marker='.')\n",
    "plt.plot(np.array(test_error)*100, label='test',marker='.')\n",
    "plt.xticks(range(len(depths)), depths)\n",
    "plt.ylabel('Accuracy %')\n",
    "plt.xlabel('max_depth')\n",
    "plt.legend()"
   ]
  },
  {
   "cell_type": "code",
   "execution_count": null,
   "metadata": {},
   "outputs": [],
   "source": []
  }
 ],
 "metadata": {
  "anaconda-cloud": {},
  "kernelspec": {
   "display_name": "Python 3",
   "language": "python",
   "name": "python3"
  },
  "language_info": {
   "codemirror_mode": {
    "name": "ipython",
    "version": 3
   },
   "file_extension": ".py",
   "mimetype": "text/x-python",
   "name": "python",
   "nbconvert_exporter": "python",
   "pygments_lexer": "ipython3",
   "version": "3.7.3"
  }
 },
 "nbformat": 4,
 "nbformat_minor": 1
}
